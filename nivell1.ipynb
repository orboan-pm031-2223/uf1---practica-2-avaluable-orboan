{
 "cells": [
  {
   "cell_type": "markdown",
   "id": "fdaa6fe5-a80d-4673-ab95-5859bbd0b6f2",
   "metadata": {},
   "source": [
    "# Nivell 1"
   ]
  },
  {
   "cell_type": "markdown",
   "id": "e3b4ea48-2cb1-4ff6-b2f0-c2a631d05d2b",
   "metadata": {},
   "source": [
    "## Pregunta 1"
   ]
  },
  {
   "cell_type": "markdown",
   "id": "048a569f-5546-474c-9108-fed430deba23",
   "metadata": {},
   "source": [
    "Executa el següent codi en una cel·la:\n",
    "\n",
    "```java\n",
    "byte b1 = (byte)129;\n",
    "byte b2 = (byte)139;\n",
    "println(b1);\n",
    "println(b2);\n",
    "```"
   ]
  },
  {
   "cell_type": "code",
   "execution_count": 1,
   "id": "d143d56f-09e0-4e9f-aac0-048accd4c1f8",
   "metadata": {
    "execution": {
     "iopub.execute_input": "2023-01-09T17:06+0000",
     "iopub.status.busy": "2023-01-09T17:06+0000",
     "iopub.status.idle": "2023-01-09T17:06+0000",
     "shell.execute_reply": "2023-01-09T17:06+0000"
    },
    "tags": []
   },
   "outputs": [
    {
     "name": "stdout",
     "output_type": "stream",
     "text": [
      "-127\n",
      "117\n"
     ]
    }
   ],
   "source": [
    "//Escriu i executa el codi aquí\n",
    "byte b1 = (byte)129;\n",
    "byte b2 = (byte)(-139);\n",
    "println(b1);\n",
    "println(b2);"
   ]
  },
  {
   "cell_type": "markdown",
   "id": "3aa5e002-7d9c-4d50-bd94-a7905dc37319",
   "metadata": {},
   "source": [
    "Digues quina de les següents respostes és la correcta:\n",
    "\n",
    "- a. En fer el casting a byte d'un enter, l'MSB que queda a b1 és un 0, i el que queda a b2 és un 1.\n",
    "\n",
    "- b. En fer el casting a byte d'un enter, l'MSB que queda a b1 és un 1, i el que queda a b2 és un 0.\n",
    "\n",
    "- c. En fer el casting a byte d'un enter, l'LSB que queda a b1 és un 0, i el que queda a b2 és un 1.\n",
    "\n",
    "- d. En fer el casting a byte d'un enter, l'LSB que queda a b1 és un 1, i el que queda a b2 és un 0.\n",
    "\n",
    "\n",
    "[MSB](https://en.wikipedia.org/wiki/Bit_numbering) (Most Significant Bit): és el bit de més a l'esquerra.\n",
    "\n",
    "[LSB](https://en.wikipedia.org/wiki/Bit_numbering) (Less Significant Bit): és el bit de més a la dreta."
   ]
  },
  {
   "cell_type": "markdown",
   "id": "e8e75e51-f5cb-46f5-8092-34f3145ed962",
   "metadata": {},
   "source": [
    "Resposta:\n",
    "\n",
    "_Escriu la teva resposta aquí (a, b, c o d)_ i **raona la teva resposta**.\n",
    "\n",
    "Es la B. Lo que hace es reducir el espacio del integer cortando sus 3 primeros bytes y el resultado de b1 es número es negativo entonces su MSB tiene que ser 1, y b2 ya que es positivo su MSB tiene que ser por 0.\n",
    "\n",
    "IMPORTANT: cal raonar la resposta per poder puntuar."
   ]
  },
  {
   "cell_type": "markdown",
   "id": "f3c3e485-34d2-4c5b-b299-111b37988088",
   "metadata": {},
   "source": [
    "## Pregunta 2"
   ]
  },
  {
   "cell_type": "markdown",
   "id": "2260437d-47e9-4709-b48a-f16ea3f70e0c",
   "metadata": {},
   "source": [
    "Executa el següent codi en una cel·la:\n",
    "\n",
    "```java\n",
    "char c = 67;\n",
    "int n = c;\n",
    "println(c);\n",
    "println(n);\n",
    "```"
   ]
  },
  {
   "cell_type": "code",
   "execution_count": 2,
   "id": "78b21702-c475-4aa9-ab6c-1997251eb0ad",
   "metadata": {
    "execution": {
     "iopub.execute_input": "2023-01-09T17:20+0000",
     "iopub.status.busy": "2023-01-09T17:20+0000",
     "iopub.status.idle": "2023-01-09T17:20+0000",
     "shell.execute_reply": "2023-01-09T17:20+0000"
    },
    "tags": []
   },
   "outputs": [
    {
     "name": "stdout",
     "output_type": "stream",
     "text": [
      "C\n",
      "67\n"
     ]
    }
   ],
   "source": [
    "//Escriu i executa el codi aquí\n",
    "char c = 67;\n",
    "int n = c;\n",
    "println(c);\n",
    "println(n);"
   ]
  },
  {
   "cell_type": "markdown",
   "id": "2b891786-95e3-4ce6-9bcd-4345fdf02dfe",
   "metadata": {},
   "source": [
    "Explica per què aquest codi no _peta_:"
   ]
  },
  {
   "cell_type": "markdown",
   "id": "0e443e29-eefc-4943-9908-22e825121671",
   "metadata": {},
   "source": [
    "Resposta:\n",
    "\n",
    "El char transforma el numero en lo que le corresponde en la tabla ASCII, mientras que el integer con el valor 67 y lo muestra tal cual como numero"
   ]
  },
  {
   "cell_type": "code",
   "execution_count": 3,
   "id": "d35bc281-039c-4e49-a190-a36ef70e8111",
   "metadata": {
    "execution": {
     "iopub.execute_input": "2023-01-09T17:26+0000",
     "iopub.status.busy": "2023-01-09T17:26+0000",
     "iopub.status.idle": "2023-01-09T17:26+0000",
     "shell.execute_reply": "2023-01-09T17:26+0000"
    },
    "tags": []
   },
   "outputs": [
    {
     "ename": "CompilationException",
     "evalue": "",
     "output_type": "error",
     "traceback": [
      "\u001b[1m\u001b[30m|   \u001b[1m\u001b[30mchar c = \u001b[0m\u001b[1m\u001b[30m\u001b[41mn\u001b[0m\u001b[1m\u001b[30m;\u001b[0m",
      "\u001b[1m\u001b[31mincompatible types: possible lossy conversion from short to char\u001b[0m",
      ""
     ]
    }
   ],
   "source": [
    "//Ara executa el codi següent:\n",
    "short n = 67;\n",
    "char c = n;\n",
    "println(c);\n",
    "println(n);"
   ]
  },
  {
   "cell_type": "markdown",
   "id": "39246c72-5ff1-4ec0-aee8-853e95a9ca5f",
   "metadata": {},
   "source": [
    "Ara, explica per què aquest codi sí _peta_:"
   ]
  },
  {
   "cell_type": "markdown",
   "id": "fd9c6467-b2f9-4ae7-acd6-dca248629110",
   "metadata": {},
   "source": [
    "Resposta:\n",
    "\"peta\" por que uno en el primareo haces complemento a 2, entonces no es el mismo codigo binario"
   ]
  },
  {
   "cell_type": "markdown",
   "id": "fc4c8446-8e5b-4df4-b9e4-82f7dfe73987",
   "metadata": {},
   "source": [
    "## Exercici 1"
   ]
  },
  {
   "cell_type": "markdown",
   "id": "e701dac0-7f06-4ceb-9f48-009dbfd1be73",
   "metadata": {},
   "source": [
    "Escriu un snippet que, donat un nombre enter positiu, imprimeixi ``true`` si és un número _palíndrom_ o ``false`` si no ho és.\n",
    "\n",
    "Per exemple:\n",
    "```\n",
    "8 -> true\n",
    "121 -> true\n",
    "123 -> false\n",
    "99 -> true\n",
    "84948 -> true\n",
    "45 -> false\n",
    "100 -> false\n",
    "```"
   ]
  },
  {
   "cell_type": "code",
   "execution_count": 8,
   "id": "40fcb645-da29-41dd-ab53-8e12f7898939",
   "metadata": {
    "execution": {
     "iopub.execute_input": "2023-01-09T18:17+0000",
     "iopub.status.busy": "2023-01-09T18:17+0000",
     "iopub.status.idle": "2023-01-09T18:17+0000",
     "shell.execute_reply": "2023-01-09T18:17+0000"
    },
    "tags": []
   },
   "outputs": [
    {
     "name": "stdout",
     "output_type": "stream",
     "text": [
      "121 es palíndromo \n"
     ]
    }
   ],
   "source": [
    "int pal = 121;\n",
    "\n",
    "//La teva solució:\n",
    "//TODO\n",
    "\n",
    "int n = pal;\n",
    "int revers = 0;\n",
    "\n",
    "//Creamos el bucle\n",
    "for ( ;n != 0; ){\n",
    "    \n",
    "    //Se multiplica la variable revers * 10\n",
    "    revers = revers * 10;\n",
    "    \n",
    "    //Al resultado le sumas el módulo 10 de n\n",
    "    revers = revers + n % 10;\n",
    "    \n",
    "    //Luego a la n natural le divides 10 para quitarle 1 dígito\n",
    "    n = n/10;\n",
    "}\n",
    "//Hacemos un boolean para revisar si el número es palíndromo o no\n",
    "if(revers == pal){\n",
    "printf(\"%d es palíndromo %n\", pal);\n",
    "}\n",
    "else{\n",
    "printf(\"%d no es palíndromo %n\", pal);\n",
    "}\n",
    "//Crea els teus jocs de proves a continuació:\n",
    "\n",
    "//TODO\n",
    "\n",
    "//COMENTARI PROVA DEL GIT\n"
   ]
  },
  {
   "cell_type": "markdown",
   "id": "01566c7e-828a-4ded-9da1-240f8560c7fb",
   "metadata": {},
   "source": [
    "## Exercici 2"
   ]
  },
  {
   "cell_type": "markdown",
   "id": "dd31eb52-c25a-4bdf-a125-049aaef50aa0",
   "metadata": {},
   "source": [
    "Escriu un snippet, que retorni un array igual que un array d'enters donat, però amb els elements negatius eliminats. Cada element negatiu serà substituit per un 0.\n",
    "\n",
    "Exemples:\n",
    "```\n",
    "[2,-1,-5,4,6] -> s'obté [2,0,0,4,6]\n",
    "[0,-3,3] -> s'obté [0,0,3] \n",
    "[] -> s'obté [] (l'array buit -sense elements- retorna un array buit)\n",
    "```\n"
   ]
  },
  {
   "cell_type": "code",
   "execution_count": 13,
   "id": "ace84db0-b8f9-4ba8-a33d-530cb32d6d13",
   "metadata": {
    "execution": {
     "iopub.execute_input": "2023-01-09T18:27+0000",
     "iopub.status.busy": "2023-01-09T18:27+0000",
     "iopub.status.idle": "2023-01-09T18:27+0000",
     "shell.execute_reply": "2023-01-09T18:27+0000"
    },
    "tags": []
   },
   "outputs": [
    {
     "name": "stdout",
     "output_type": "stream",
     "text": [
      "[2, 0, 0, 4, 6]\n"
     ]
    }
   ],
   "source": [
    "//Escriu i prova el teu codi aquí\n",
    "int[] array = {2,-1,-5,4,6};\n",
    "\n",
    "//crear un bucle para recorrer el array\n",
    "for (int i = 0; i < array.length; i++){\n",
    "    //condición para ver si es menor i si es así cambiarlo por un 0\n",
    "    if (array[i] < 0)\n",
    "        array[i] = 0;\n",
    "}\n",
    "System.out.println(Arrays.toString(array));\n",
    "\n",
    "//Crea les teves proves aquí:\n",
    "//TODO"
   ]
  },
  {
   "cell_type": "markdown",
   "id": "9f3acb59-4e0f-4d5c-8fdb-eaf5ba0df7d2",
   "metadata": {},
   "source": [
    "## Exercici 3"
   ]
  },
  {
   "cell_type": "markdown",
   "id": "5341f9c0-dcc0-4c3d-b04e-ee363bad35f1",
   "metadata": {},
   "source": [
    "Donat un nombre enter N, escriu un snippet que imprimeixi ``true`` si aquest nombre pertany a la sèrie de Fibonacci, o ``false `` si no hi pertany."
   ]
  },
  {
   "cell_type": "code",
   "execution_count": 22,
   "id": "519d1b1b-c28a-4a1e-871c-759f0d7f2a10",
   "metadata": {
    "execution": {
     "iopub.execute_input": "2023-01-09T18:38+0000",
     "iopub.status.busy": "2023-01-09T18:38+0000",
     "iopub.status.idle": "2023-01-09T18:38+0000",
     "shell.execute_reply": "2023-01-09T18:38+0000"
    },
    "tags": []
   },
   "outputs": [
    {
     "name": "stdout",
     "output_type": "stream",
     "text": [
      "true"
     ]
    }
   ],
   "source": [
    "int N = 5;\n",
    "int fibo= 0;\n",
    "int n1 = 1; //numero por el cual se comienza.\n",
    "int n2 = 0;//numero sucesor de n1.\n",
    "boolean f = true;\n",
    "//TODO (solució)\n",
    "for (int i = 1; fibo < N; i++){//se recorre del 1 a N, tomando en cuenta que se llegue a un numero \n",
    "//menor que N y pare\n",
    "    n2 = fibo;// establecemos que n2 tenga l valor de fibo cada vuelta\n",
    "    fibo = n1 + fibo;// en cada vuelta, fibo tendrá el valor de n1 más el valor anterior de fibo\n",
    "    n1 = n2;//n1 será igual que el valor obtenido de n2\n",
    "}\n",
    "if(N == fibo){//si el valor de N es el mismoq que el de fibo al terminar el bucle \n",
    "    print(f);//se imprimirá f que se ha establecido como true\n",
    "}\n",
    "else{//si no se cumple la condición\n",
    "    f = false;//f pasará a ser false\n",
    "    print(f);//por lo tanto, se imprime f que se ha establecido como false.\n",
    "}\n",
    "\n",
    "//TODO (jocs de proves)"
   ]
  },
  {
   "cell_type": "code",
   "execution_count": null,
   "id": "46dfbd40-bcea-41b0-b281-f8c00f58fa5d",
   "metadata": {},
   "outputs": [],
   "source": []
  }
 ],
 "metadata": {
  "kernelspec": {
   "display_name": "Java",
   "language": "java",
   "name": "java"
  },
  "language_info": {
   "codemirror_mode": "java",
   "file_extension": ".jshell",
   "mimetype": "text/x-java-source",
   "name": "Java",
   "pygments_lexer": "java",
   "version": "17.0.5+8-LTS"
  }
 },
 "nbformat": 4,
 "nbformat_minor": 5
}
