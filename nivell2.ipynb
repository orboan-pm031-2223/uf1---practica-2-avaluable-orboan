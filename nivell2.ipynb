{
 "cells": [
  {
   "cell_type": "markdown",
   "id": "54b801d8-b4b0-4b20-a67c-5b701d1e6f56",
   "metadata": {},
   "source": [
    "# Nivell 2"
   ]
  },
  {
   "cell_type": "markdown",
   "id": "747e1fa9-08e4-4881-a3be-5feb4fdb1057",
   "metadata": {},
   "source": [
    "## Exercici 1\n",
    "\n",
    "Donat un array, busca el seu màxim, el seu mínim, i intercanvia'ls de lloc.\n",
    "\n",
    "Per exemple:\n",
    "\n",
    "```java\n",
    "//abans\n",
    "int[] array = {4,2,7,9,1,2,6,-1,8};\n",
    "println(Arrays.toString(array)); //imprimirà [4, 2, 7, 9, 1, 2, 6, -1, 8]\n",
    "\n",
    "//després\n",
    "println(Arrays.toString(array)); //imprimirà [4, 2, 7, -1, 1, 2, 6, 9, 8]\n",
    "```"
   ]
  },
  {
   "cell_type": "code",
   "execution_count": 2,
   "id": "5b3ac07b-ca13-404f-b00d-637f62457a4d",
   "metadata": {
    "execution": {
     "iopub.execute_input": "2022-12-05T16:23+0000",
     "iopub.status.busy": "2022-12-05T16:23+0000",
     "iopub.status.idle": "2022-12-05T16:23+0000",
     "shell.execute_reply": "2022-12-05T16:23+0000"
    }
   },
   "outputs": [
    {
     "name": "stdout",
     "output_type": "stream",
     "text": [
      "[4, 2, 7, 9, 1, 2, 6, -1, 8]\n",
      "[4, 2, 7, 9, 1, 2, 6, -1, 8]\n"
     ]
    }
   ],
   "source": [
    "//abans\n",
    "int[] array = {4,2,7,9,1,2,6,-1,8};\n",
    "println(Arrays.toString(array)); //imprimirà [4, 2, 7, 9, 1, 2, 6, -1, 8]\n",
    "\n",
    "//TODO\n",
    "\n",
    "//després\n",
    "println(Arrays.toString(array)); //imprimirà [4, 2, 7, -1, 1, 2, 6, 9, 8]"
   ]
  },
  {
   "cell_type": "markdown",
   "id": "89d4609e-c040-4029-bd48-083b931f9f4d",
   "metadata": {},
   "source": [
    "## Exercici 2 (ordenació)"
   ]
  },
  {
   "cell_type": "markdown",
   "id": "38fb449c-f92c-423e-9572-098dce117abd",
   "metadata": {},
   "source": [
    "Ordena un array donat d'enters, sense fer servir un segon array, seguint el següent algorisme:\n",
    "\n",
    "1. Compara el primer element de l'array amb el segon element de l'array, si el primer és més gran que el segon, intercanvia'ls.\n",
    "2. Compara el segon element de l'array amb el tercer element, si el segon és més gran, intercanvia'ls.\n",
    "3. Compara el tercer amb el quart elements i intercanvia'ls si el tercer és més gran que el segon.\n",
    "4. Repeteix aquest procés de comparació fins que arribis al final i comparis el penúltim element amb l'últim (i els intercanvies si el penúltim és més gran que l'últim).\n",
    "5. Repeteix les passes d'1 a 4 fins que es compleixi la següent condició: en totes les comparacions **no s'ha fet cap intercanvi**.\n",
    "\n",
    "Finalment, tindràs l'array ordenat."
   ]
  },
  {
   "cell_type": "code",
   "execution_count": 3,
   "id": "63e6755c-0cbb-45fa-b7a9-dd8e15938602",
   "metadata": {
    "execution": {
     "iopub.execute_input": "2022-12-05T16:25+0000",
     "iopub.status.busy": "2022-12-05T16:25+0000",
     "iopub.status.idle": "2022-12-05T16:25+0000",
     "shell.execute_reply": "2022-12-05T16:25+0000"
    }
   },
   "outputs": [
    {
     "name": "stdout",
     "output_type": "stream",
     "text": [
      "[4, 2, 7, 9, 1, 2, 6, -1, 8]\n"
     ]
    }
   ],
   "source": [
    "int[] array = {4,2,7,9,1,2,6,-1,8};\n",
    "\n",
    "\n",
    "//TODO\n",
    "\n",
    "println(Arrays.toString(array)); //imprimirà [-1, 1, 2, 2, 4, 6, 7, 8, 9]"
   ]
  },
  {
   "cell_type": "code",
   "execution_count": null,
   "id": "ab8cb133-8b9b-41c3-9866-1eca5708cb2a",
   "metadata": {},
   "outputs": [],
   "source": [
    "//Feu les vostres proves a continuació"
   ]
  },
  {
   "cell_type": "code",
   "execution_count": null,
   "id": "940dc373-a4de-4dfd-b901-1e3b413e347e",
   "metadata": {},
   "outputs": [],
   "source": []
  }
 ],
 "metadata": {
  "kernelspec": {
   "display_name": "Java",
   "language": "java",
   "name": "java"
  },
  "language_info": {
   "codemirror_mode": "java",
   "file_extension": ".jshell",
   "mimetype": "text/x-java-source",
   "name": "Java",
   "pygments_lexer": "java",
   "version": "17.0.5+8-LTS"
  }
 },
 "nbformat": 4,
 "nbformat_minor": 5
}
