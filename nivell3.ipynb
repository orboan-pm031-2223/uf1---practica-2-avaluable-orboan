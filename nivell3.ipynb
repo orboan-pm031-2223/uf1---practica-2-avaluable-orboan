{
 "cells": [
  {
   "cell_type": "markdown",
   "id": "47a95175-c703-484c-8202-f7cc8c96b687",
   "metadata": {},
   "source": [
    "# Nivell 3"
   ]
  },
  {
   "cell_type": "markdown",
   "id": "6d67f3be-852b-461c-986d-0c7e8295e426",
   "metadata": {},
   "source": [
    "## Exercici 1"
   ]
  },
  {
   "cell_type": "markdown",
   "id": "e09a0643-317c-403f-82f9-9b0445c99fd9",
   "metadata": {},
   "source": [
    "En aquest exercici has d'implementar un snippet que ha de transformar vocals per caràcters en un array d'String.\n",
    "\n",
    "La transformació que ha de fer aquesta funció és la següent:\n",
    "\n",
    "Donat un array d'String anomenat _words_, ha de retornar un nou array que contingui les mateixes paraules que l'array _words_ original, però substituint totes les vocals (**majúscules i minúscules**) pels següents corresponents caràcters:\n",
    "```\n",
    "a | A -> 4\n",
    "e | E -> 3\n",
    "i | I -> !\n",
    "o | O -> 0\n",
    "u | U -> 1\n",
    "```\n",
    "\n",
    "\n",
    "Exemples:\n",
    "```\n",
    "[\"Hola\",\"Java\",\"Dev\",\"Universitat\"] -> retorna [\"H0l4\",\"J4v4\",\"D3v\",\"1n!v3rs!t4t\"]\n",
    "[\"AMIC\",\"amic\"] -> retorna [\"4m!c\",\"4m!c\"] \n",
    "[] -> retorna [] (l'array buit -sense elements- retorna un array buit)\n",
    "```\n"
   ]
  },
  {
   "cell_type": "code",
   "execution_count": 11,
   "id": "0c17d641-b528-4b87-b5df-dde8b4a58812",
   "metadata": {
    "execution": {
     "iopub.execute_input": "2023-01-10T18:50+0000",
     "iopub.status.busy": "2023-01-10T18:50+0000",
     "iopub.status.idle": "2023-01-10T18:50+0000",
     "shell.execute_reply": "2023-01-10T18:50+0000"
    },
    "tags": []
   },
   "outputs": [
    {
     "name": "stdout",
     "output_type": "stream",
     "text": [
      "[H0l4, J4v4, D3v, 1n!v3rs!t4t]\n"
     ]
    }
   ],
   "source": [
    "//la teva solució a continucació:\n",
    "\n",
    "String[] words = {\"Hola\",\"Java\",\"Dev\",\"Universitat\"};\n",
    "String max;\n",
    "char letra;\n",
    "String nueva = \"\";\n",
    "//TODO\n",
    "for (int i = 0; i < words.length; i++){\n",
    "    max = words[i];\n",
    "    nueva = \"\";\n",
    "    //print(\" \" + max);\n",
    "    \n",
    "    for (int j = 0; j < max.length(); j++){\n",
    "        \n",
    "        letra = max.charAt(j);\n",
    "        if(letra == 'a' || letra == 'A'){\n",
    "            letra = '4';\n",
    "        }\n",
    "         if(letra == 'e' || letra == 'E'){\n",
    "            letra = '3';\n",
    "        }\n",
    "         if(letra == 'i' || letra == 'i'){\n",
    "            letra = '!';\n",
    "        }\n",
    "         if(letra == 'o' || letra == 'O'){\n",
    "            letra = '0';\n",
    "        }\n",
    "         if(letra == 'u' || letra == 'U'){\n",
    "            letra = '1';\n",
    "        }\n",
    "        \n",
    "        nueva += letra;\n",
    "    }\n",
    "    words[i] = nueva;\n",
    "}\n",
    "println(Arrays.toString(words));\n",
    "//Les teves proves a continuació:\n",
    "//TODO"
   ]
  },
  {
   "cell_type": "markdown",
   "id": "47dbd957-7168-4fb8-912d-7c76769b7f19",
   "metadata": {},
   "source": [
    "## Exercici 2 (arrays bidimensionals)"
   ]
  },
  {
   "cell_type": "markdown",
   "id": "42ada42c-4112-401e-9c53-be7279e747bb",
   "metadata": {},
   "source": [
    "A partir d'una matriu ``n x m`` d'enters, implementeu un snippet, per a obtenir un array **de doubles** de mida ``n`` tal que els seus elements seran cadascun la mitjana aritmètica de tots els valors de cada fila (és a dir, el primer element de l'array a retornar serà la mitjana aritmètica de tots els valors de la primera fila de la matriu, el segon element... de la segona fila de la matriu, etc.)."
   ]
  },
  {
   "cell_type": "markdown",
   "id": "7e8a473d-262c-4796-b879-0f39b9d7cc54",
   "metadata": {},
   "source": [
    "Exemple:\n",
    "```\n",
    "int[][] matrix = {{0,1},{2,3},{4,5}};\n",
    "```\n",
    "\n",
    "La mitjana aritmètica de la primera fila és ``(0 + 1) / 2 = 0.5``\n",
    "\n",
    "La mitjana aritmètica de la segona fila és ``(2 + 3) / 2 = 2.5``\n",
    "\n",
    "La mitjana aritmètica de la tercera fila és ``(4 + 5) / 2 = 4.5``\n",
    "\n",
    "> Així, l'array a retornar per la funció serà [0.5, 2.5, 4.5]"
   ]
  },
  {
   "cell_type": "code",
   "execution_count": 16,
   "id": "0c03f061-d7cd-4f28-898a-e1453c63d9b0",
   "metadata": {
    "execution": {
     "iopub.execute_input": "2023-01-10T19:27+0000",
     "iopub.status.busy": "2023-01-10T19:27+0000",
     "iopub.status.idle": "2023-01-10T19:27+0000",
     "shell.execute_reply": "2023-01-10T19:27+0000"
    },
    "tags": []
   },
   "outputs": [
    {
     "name": "stdout",
     "output_type": "stream",
     "text": [
      "[0.5, 2.5, 4.5]"
     ]
    }
   ],
   "source": [
    "//Implementeu el vostre codi a continuació:\n",
    "\n",
    "//El programa ens demana la mitjana aritmètica de cadascuna de les files\n",
    "\n",
    "int[][] matrix = {{0,1},{2,3},{4,5}};\n",
    "double [] mitjanes = new double[matrix.length];\n",
    "\n",
    "for (int cont = 0; cont <= matrix.length-1; cont++){\n",
    "    \n",
    "    double suma = 0.0;\n",
    "    \n",
    "    for (int i = 0; i < matrix[cont].length; i++) {\n",
    "        \n",
    "        suma = suma + matrix[cont][i];\n",
    "}\n",
    "    mitjanes[cont] = suma / matrix[cont].length;\n",
    "}\n",
    "\n",
    "print(Arrays.toString(mitjanes));"
   ]
  },
  {
   "cell_type": "code",
   "execution_count": null,
   "id": "e99cdd4c-ae2d-41f7-9a1f-f86a894457f0",
   "metadata": {},
   "outputs": [],
   "source": [
    "//Feu les vostres proves a continuació"
   ]
  },
  {
   "cell_type": "markdown",
   "id": "5b091e49-4ca5-40d6-a4cf-a1bd07042fd0",
   "metadata": {},
   "source": [
    "## Exercici extra (cerca binària)\n",
    "\n",
    "Donat un **array ordenat** d'enters, i donat un enter ``n``, fes un snippet que imprimeixi en quina posició (index) es trobat ubicat l'element ``n`` si ``n`` pertany a l'array, o bé que retorni -1 si ``n`` no pertany a l'array.\n",
    "\n",
    "**Has d'utilitzar l'algorisme CERCA BINÀRIA**."
   ]
  },
  {
   "cell_type": "code",
   "execution_count": 28,
   "id": "cbb366dd-86f2-4426-974e-a64844e181f7",
   "metadata": {
    "execution": {
     "iopub.execute_input": "2023-01-10T19:52+0000",
     "iopub.status.busy": "2023-01-10T19:52+0000",
     "iopub.status.idle": "2023-01-10T19:52+0000",
     "shell.execute_reply": "2023-01-10T19:52+0000"
    },
    "tags": []
   },
   "outputs": [],
   "source": [
    "//El següent codi et genera un array d'Integers ordenats amb valors entre 0 i 99.\n",
    "import java.util.stream.IntStream;\n",
    "int[]  randomIntsArray = \n",
    "    IntStream.generate(() -> new Random().nextInt(100)).limit(100).toArray();\n",
    "\n"
   ]
  },
  {
   "cell_type": "code",
   "execution_count": 29,
   "id": "a46a0ee2-be19-4d4e-8045-fca336692c40",
   "metadata": {
    "execution": {
     "iopub.execute_input": "2023-01-10T19:52+0000",
     "iopub.status.busy": "2023-01-10T19:52+0000",
     "iopub.status.idle": "2023-01-10T19:52+0000",
     "shell.execute_reply": "2023-01-10T19:52+0000"
    },
    "tags": []
   },
   "outputs": [],
   "source": [
    "// TODO: Primer pas: ordena l'array randomIntsArray"
   ]
  },
  {
   "cell_type": "code",
   "execution_count": 31,
   "id": "bf8d8646-cf0d-4d62-aac0-12fe7c434c9d",
   "metadata": {
    "execution": {
     "iopub.execute_input": "2023-01-10T19:53+0000",
     "iopub.status.busy": "2023-01-10T19:53+0000",
     "iopub.status.idle": "2023-01-10T19:53+0000",
     "shell.execute_reply": "2023-01-10T19:53+0000"
    },
    "tags": []
   },
   "outputs": [
    {
     "name": "stdout",
     "output_type": "stream",
     "text": [
      "[0, 3, 4, 6, 6, 8, 8, 8, 9, 9, 10, 10, 10, 13, 15, 15, 16, 16, 17, 18, 20, 21, 21, 21, 23, 23, 25, 25, 26, 27, 28, 28, 30, 30, 32, 33, 34, 34, 34, 35, 35, 38, 38, 38, 39, 40, 41, 41, 43, 43, 44, 44, 46, 48, 48, 49, 51, 52, 52, 52, 56, 56, 57, 59, 59, 59, 62, 63, 65, 66, 68, 70, 71, 71, 74, 75, 75, 77, 77, 78, 79, 80, 82, 83, 84, 85, 85, 86, 87, 88, 88, 89, 89, 90, 92, 94, 94, 95, 95, 96]38 está en la porsición 42\n"
     ]
    }
   ],
   "source": [
    "int n = 38;\n",
    " boolean encontrado = false;\n",
    "    int mid = (randomIntsArray.length - 1) / 2;\n",
    "    int max = randomIntsArray.length - 1;\n",
    "    int min = 0;\n",
    "\n",
    "    //TODO\n",
    "int aux;\n",
    "boolean inter = true;\n",
    "for(;inter == true;){\n",
    "    inter = false;\n",
    "    for(int i= 0; i < randomIntsArray.length - 1; i++){\n",
    "    aux= randomIntsArray[i];\n",
    "        if(randomIntsArray[i] > randomIntsArray[i+1]){\n",
    "            randomIntsArray[i] = randomIntsArray[i+1];\n",
    "            randomIntsArray[i+1]=aux;\n",
    "            inter = true;\n",
    "        }\n",
    "    }    \n",
    "}\n",
    "print(Arrays.toString(randomIntsArray));   \n",
    "    \n",
    "    while(encontrado == false && min != mid && max != mid) {\n",
    "            \n",
    "            if(n > randomIntsArray[mid]) {\n",
    "                    min = mid + 1;\n",
    "                    mid = ((max - min) / 2 ) + min;\n",
    "            }\n",
    "        \n",
    "          else  if(n < randomIntsArray[mid]) {\n",
    "                    max = mid - 1;\n",
    "                    mid = ((max - min) / 2 ) + min;\n",
    "            }\n",
    "        \n",
    "        else {\n",
    "            encontrado = true;\n",
    "        }\n",
    "        \n",
    "    }\n",
    "\n",
    "      if( encontrado == true) {\n",
    "          System.out.println(n + \" está en la porsición \" +mid);\n",
    "      }\n",
    "\n",
    "      else{\n",
    "          System.out.println(n + \" no se encontró \");\n",
    "      }\n",
    "//TODO: Segon pas: cerca un element amb cerca binària\n",
    "\n"
   ]
  },
  {
   "cell_type": "code",
   "execution_count": null,
   "id": "31654f41-7c21-46ec-aa9e-08b148254b3c",
   "metadata": {},
   "outputs": [],
   "source": []
  }
 ],
 "metadata": {
  "kernelspec": {
   "display_name": "Java",
   "language": "java",
   "name": "java"
  },
  "language_info": {
   "codemirror_mode": "java",
   "file_extension": ".jshell",
   "mimetype": "text/x-java-source",
   "name": "Java",
   "pygments_lexer": "java",
   "version": "17.0.5+8-LTS"
  }
 },
 "nbformat": 4,
 "nbformat_minor": 5
}
