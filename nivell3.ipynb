{
 "cells": [
  {
   "cell_type": "markdown",
   "id": "47a95175-c703-484c-8202-f7cc8c96b687",
   "metadata": {},
   "source": [
    "# Nivell 3"
   ]
  },
  {
   "cell_type": "markdown",
   "id": "6d67f3be-852b-461c-986d-0c7e8295e426",
   "metadata": {},
   "source": [
    "## Exercici 1"
   ]
  },
  {
   "cell_type": "markdown",
   "id": "e09a0643-317c-403f-82f9-9b0445c99fd9",
   "metadata": {},
   "source": [
    "En aquest exercici has d'implementar un snippet que ha de transformar vocals per caràcters en un array d'String.\n",
    "\n",
    "La transformació que ha de fer aquesta funció és la següent:\n",
    "\n",
    "Donat un array d'String anomenat _words_, ha de retornar un nou array que contingui les mateixes paraules que l'array _words_ original, però substituint totes les vocals (**majúscules i minúscules**) pels següents corresponents caràcters:\n",
    "```\n",
    "a | A -> 4\n",
    "e | E -> 3\n",
    "i | I -> !\n",
    "o | O -> 0\n",
    "u | U -> 1\n",
    "```\n",
    "\n",
    "\n",
    "Exemples:\n",
    "```\n",
    "[\"Hola\",\"Java\",\"Dev\",\"Universitat\"] -> retorna [\"H0l4\",\"J4v4\",\"D3v\",\"1n!v3rs!t4t\"]\n",
    "[\"AMIC\",\"amic\"] -> retorna [\"4m!c\",\"4m!c\"] \n",
    "[] -> retorna [] (l'array buit -sense elements- retorna un array buit)\n",
    "```\n"
   ]
  },
  {
   "cell_type": "code",
   "execution_count": 2,
   "id": "0c17d641-b528-4b87-b5df-dde8b4a58812",
   "metadata": {
    "execution": {
     "iopub.execute_input": "2022-12-05T16:29+0000",
     "iopub.status.busy": "2022-12-05T16:29+0000",
     "iopub.status.idle": "2022-12-05T16:29+0000",
     "shell.execute_reply": "2022-12-05T16:29+0000"
    },
    "tags": []
   },
   "outputs": [],
   "source": [
    "//la teva solució a continucació:\n",
    "\n",
    "String[] words = {\"Hola\",\"Java\",\"Dev\",\"Universitat\"};\n",
    "\n",
    "//TODO\n",
    "\n",
    "//Les teves proves a continuació:\n",
    "//TODO"
   ]
  },
  {
   "cell_type": "markdown",
   "id": "47dbd957-7168-4fb8-912d-7c76769b7f19",
   "metadata": {},
   "source": [
    "## Exercici 2 (arrays bidimensionals)"
   ]
  },
  {
   "cell_type": "markdown",
   "id": "42ada42c-4112-401e-9c53-be7279e747bb",
   "metadata": {},
   "source": [
    "A partir d'una matriu ``n x m`` d'enters, implementeu un snippet, per a obtenir un array **de doubles** de mida ``n`` tal que els seus elements seran cadascun la mitjana aritmètica de tots els valors de cada fila (és a dir, el primer element de l'array a retornar serà la mitjana aritmètica de tots els valors de la primera fila de la matriu, el segon element... de la segona fila de la matriu, etc.)."
   ]
  },
  {
   "cell_type": "markdown",
   "id": "7e8a473d-262c-4796-b879-0f39b9d7cc54",
   "metadata": {},
   "source": [
    "Exemple:\n",
    "```\n",
    "int[][] matrix = {{0,1},{2,3},{4,5}};\n",
    "```\n",
    "\n",
    "La mitjana aritmètica de la primera fila és ``(0 + 1) / 2 = 0.5``\n",
    "\n",
    "La mitjana aritmètica de la segona fila és ``(2 + 3) / 2 = 2.5``\n",
    "\n",
    "La mitjana aritmètica de la tercera fila és ``(4 + 5) / 2 = 4.5``\n",
    "\n",
    "> Així, l'array a retornar per la funció serà [0.5, 2.5, 4.5]"
   ]
  },
  {
   "cell_type": "code",
   "execution_count": 3,
   "id": "0c03f061-d7cd-4f28-898a-e1453c63d9b0",
   "metadata": {
    "execution": {
     "iopub.execute_input": "2022-12-05T16:32+0000",
     "iopub.status.busy": "2022-12-05T16:32+0000",
     "iopub.status.idle": "2022-12-05T16:32+0000",
     "shell.execute_reply": "2022-12-05T16:32+0000"
    }
   },
   "outputs": [],
   "source": [
    "//Implementeu el vostre codi a continuació:\n",
    "\n",
    "//TODO\n",
    "\n",
    "int[][] matrix = {{0,1},{2,3},{4,5}};"
   ]
  },
  {
   "cell_type": "code",
   "execution_count": null,
   "id": "e99cdd4c-ae2d-41f7-9a1f-f86a894457f0",
   "metadata": {},
   "outputs": [],
   "source": [
    "//Feu les vostres proves a continuació"
   ]
  },
  {
   "cell_type": "markdown",
   "id": "5b091e49-4ca5-40d6-a4cf-a1bd07042fd0",
   "metadata": {},
   "source": [
    "## Exercici extra (cerca binària)\n",
    "\n",
    "Donat un **array ordenat** d'enters, i donat un enter ``n``, fes un snippet que imprimeixi en quina posició (index) es trobat ubicat l'element ``n`` si ``n`` pertany a l'array, o bé que retorni -1 si ``n`` no pertany a l'array.\n",
    "\n",
    "**Has d'utilitzar l'algorisme CERCA BINÀRIA**."
   ]
  },
  {
   "cell_type": "code",
   "execution_count": 15,
   "id": "cbb366dd-86f2-4426-974e-a64844e181f7",
   "metadata": {
    "execution": {
     "iopub.execute_input": "2022-12-05T16:44+0000",
     "iopub.status.busy": "2022-12-05T16:44+0000",
     "iopub.status.idle": "2022-12-05T16:44+0000",
     "shell.execute_reply": "2022-12-05T16:44+0000"
    },
    "tags": []
   },
   "outputs": [],
   "source": [
    "//El següent codi et genera un array d'Integers ordenats amb valors entre 0 i 99.\n",
    "import java.util.stream.IntStream;\n",
    "int[]  randomIntsArray = \n",
    "    IntStream.generate(() -> new Random().nextInt(100)).limit(100).toArray();\n",
    "\n"
   ]
  },
  {
   "cell_type": "code",
   "execution_count": 16,
   "id": "a46a0ee2-be19-4d4e-8045-fca336692c40",
   "metadata": {
    "execution": {
     "iopub.execute_input": "2022-12-05T16:44+0000",
     "iopub.status.busy": "2022-12-05T16:44+0000",
     "iopub.status.idle": "2022-12-05T16:44+0000",
     "shell.execute_reply": "2022-12-05T16:44+0000"
    }
   },
   "outputs": [],
   "source": [
    "// TODO: Primer pas: ordena l'array randomIntsArray"
   ]
  },
  {
   "cell_type": "code",
   "execution_count": 17,
   "id": "bf8d8646-cf0d-4d62-aac0-12fe7c434c9d",
   "metadata": {
    "execution": {
     "iopub.execute_input": "2022-12-05T16:45+0000",
     "iopub.status.busy": "2022-12-05T16:45+0000",
     "iopub.status.idle": "2022-12-05T16:45+0000",
     "shell.execute_reply": "2022-12-05T16:45+0000"
    }
   },
   "outputs": [],
   "source": [
    "int n = 38;\n",
    "\n",
    "//TODO: Segon pas: cerca un element amb cerca binària\n",
    "\n"
   ]
  },
  {
   "cell_type": "code",
   "execution_count": null,
   "id": "31654f41-7c21-46ec-aa9e-08b148254b3c",
   "metadata": {},
   "outputs": [],
   "source": []
  }
 ],
 "metadata": {
  "kernelspec": {
   "display_name": "Java",
   "language": "java",
   "name": "java"
  },
  "language_info": {
   "codemirror_mode": "java",
   "file_extension": ".jshell",
   "mimetype": "text/x-java-source",
   "name": "Java",
   "pygments_lexer": "java",
   "version": "17.0.5+8-LTS"
  }
 },
 "nbformat": 4,
 "nbformat_minor": 5
}
